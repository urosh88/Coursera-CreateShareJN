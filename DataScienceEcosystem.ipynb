{
 "cells": [
  {
   "cell_type": "markdown",
   "id": "b3c5aa23-9583-4c6b-81c1-9f7bd867d92f",
   "metadata": {},
   "source": [
    "# Data Science Tools and Ecosystem"
   ]
  },
  {
   "cell_type": "markdown",
   "id": "6cf5714f-d783-4ef4-abf6-00c4b0de1944",
   "metadata": {},
   "source": [
    "In this notebook, Data Science Tools and Ecosystem are summarized."
   ]
  },
  {
   "cell_type": "markdown",
   "id": "70290fc3-0f36-482a-a818-6dd887bf9a7a",
   "metadata": {},
   "source": [
    "**Objectives:**\n",
    "* List popular languages for Data Science\n",
    "* List commonly used libraries in Data Science\n",
    "* Test few basic arithmetic experssions in Python"
   ]
  },
  {
   "cell_type": "markdown",
   "id": "00b087f8-1d18-4a0e-9cad-62db786c493d",
   "metadata": {},
   "source": [
    "Some of the popular languages that Data Scientists use are:\n",
    "1. Python\n",
    "2. R\n",
    "3. Java\n",
    "4. Julia"
   ]
  },
  {
   "cell_type": "markdown",
   "id": "1474b0be-18d6-4127-8241-333c4980d742",
   "metadata": {},
   "source": [
    "Some of the commonly used libraries used by Data Scientists include:\n",
    "1. Pandas (Python)\n",
    "2. Matplotlib (Python)\n",
    "3. ggplot2 (R)"
   ]
  },
  {
   "cell_type": "markdown",
   "id": "31d27579-7a13-4f7a-a08f-8ddfc475a8f7",
   "metadata": {},
   "source": [
    "| Data Science Tools |\n",
    "| ---------------- |\n",
    "| Jupyter Notebook |\n",
    "| RStudio |\n",
    "| VS Code |"
   ]
  },
  {
   "cell_type": "markdown",
   "id": "3cda3785-820e-40c7-8d2e-ca2368e3c751",
   "metadata": {},
   "source": [
    "### Below are a few examples of evaluating arithmetic expressions in Python"
   ]
  },
  {
   "cell_type": "code",
   "execution_count": 18,
   "id": "4aa778a3-ebd5-452a-9d77-a792ca9feed9",
   "metadata": {
    "scrolled": true
   },
   "outputs": [
    {
     "data": {
      "text/plain": [
       "17"
      ]
     },
     "execution_count": 18,
     "metadata": {},
     "output_type": "execute_result"
    }
   ],
   "source": [
    "# This a simple arithmetic expression to mutiply then add integers\n",
    "(3*4)+5"
   ]
  },
  {
   "cell_type": "code",
   "execution_count": 19,
   "id": "9ddaa848-4508-46b6-adea-63a1ad39bb79",
   "metadata": {},
   "outputs": [
    {
     "name": "stdout",
     "output_type": "stream",
     "text": [
      "200 minutes is equal to 3.3333333333333335 hours.\n",
      "It can be also said that 200 minutes is equal to 3 hours and 20 minutes.\n"
     ]
    }
   ],
   "source": [
    "# This will convert 200 minutes to hours by diving by 60\n",
    "print(\"200 minutes is equal to \" + str(200/60) + \" hours.\")\n",
    "if 200/60 != round(200/60):\n",
    "    print(\"It can be also said that 200 minutes is equal to \" + str(round(200/60)) + \" hours and \" + str(200-round(200/60)*60) + \" minutes.\")"
   ]
  },
  {
   "cell_type": "markdown",
   "id": "cc1d6a5d-06be-4c62-8c15-2d60c4aff19b",
   "metadata": {},
   "source": [
    "## Author\n",
    "Uros Krstic"
   ]
  },
  {
   "cell_type": "code",
   "execution_count": null,
   "id": "907440a9-d4e2-4a42-9d81-f7fcd4b9a4b9",
   "metadata": {},
   "outputs": [],
   "source": []
  }
 ],
 "metadata": {
  "kernelspec": {
   "display_name": "Python 3 (ipykernel)",
   "language": "python",
   "name": "python3"
  },
  "language_info": {
   "codemirror_mode": {
    "name": "ipython",
    "version": 3
   },
   "file_extension": ".py",
   "mimetype": "text/x-python",
   "name": "python",
   "nbconvert_exporter": "python",
   "pygments_lexer": "ipython3",
   "version": "3.13.5"
  }
 },
 "nbformat": 4,
 "nbformat_minor": 5
}
